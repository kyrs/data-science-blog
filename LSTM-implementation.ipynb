{
 "cells": [
  {
   "cell_type": "markdown",
   "metadata": {},
   "source": [
    "#  implementation of LSTM for experiment"
   ]
  },
  {
   "cell_type": "code",
   "execution_count": 56,
   "metadata": {},
   "outputs": [
    {
     "name": "stdout",
     "output_type": "stream",
     "text": [
      "Extracting /tmp/data/train-images-idx3-ubyte.gz\n",
      "Extracting /tmp/data/train-labels-idx1-ubyte.gz\n",
      "Extracting /tmp/data/t10k-images-idx3-ubyte.gz\n",
      "Extracting /tmp/data/t10k-labels-idx1-ubyte.gz\n"
     ]
    }
   ],
   "source": [
    "import tensorflow as tf\n",
    "from tensorflow.contrib import rnn\n",
    "from tensorflow.examples.tutorials.mnist import input_data\n",
    "\n",
    "mnist = input_data.read_data_sets(\"/tmp/data/\",one_hot=True)"
   ]
  },
  {
   "cell_type": "code",
   "execution_count": 62,
   "metadata": {},
   "outputs": [],
   "source": [
    "learning_rate = 0.001\n",
    "training_step = 10000\n",
    "batch_size = 128\n",
    "display_step = 200\n",
    "\n",
    "\n",
    "tf.reset_default_graph()\n",
    "\n",
    "## network architecture features \n",
    "num_input = 28\n",
    "timestamp = 28\n",
    "num_hidden = 128\n",
    "num_class =10\n",
    "\n",
    "X = tf.placeholder(\"float\",[None,timestamp,num_input])\n",
    "Y = tf.placeholder(\"float\",[None,num_class])\n"
   ]
  },
  {
   "cell_type": "code",
   "execution_count": 63,
   "metadata": {},
   "outputs": [],
   "source": [
    "# define the weights matrix for  Single forward RNN\n",
    "\n",
    "# weights = {\n",
    "#     \"out\": tf.Variable(tf.random_normal([num_hidden,num_class]))\n",
    "# }\n",
    "\n",
    "# bias = {\n",
    "#     \"out\": tf.Variable(tf.random_normal([num_class]))\n",
    "# }\n",
    "\n",
    "\n",
    "\n",
    "\n",
    "## defining the weights for bi directional RNN\n",
    "weights = {\n",
    "    \"out\": tf.Variable(tf.random_normal([2*num_hidden,num_class]))\n",
    "}\n",
    "\n",
    "bias = {\n",
    "    \"out\": tf.Variable(tf.random_normal([num_class]))\n",
    "}\n"
   ]
  },
  {
   "cell_type": "code",
   "execution_count": 64,
   "metadata": {},
   "outputs": [],
   "source": [
    "def RNN(x,weight,bias):\n",
    "    ## putting the x into the data\n",
    "    x = tf.unstack(x,timestamp,1)\n",
    "    \n",
    "    lstm_cell = rnn.BasicLSTMCell(num_hidden,forget_bias = 1.0)\n",
    "    \n",
    "    ## getting th value of lstm cell \n",
    "    output, states = rnn.static_rnn(lstm_cell, x, dtype=tf.float32)\n",
    "    \n",
    "    # Linear activation, using rnn inner loop last output\n",
    "    return tf.matmul(output[-1], weights['out']) + bias['out']\n"
   ]
  },
  {
   "cell_type": "code",
   "execution_count": 65,
   "metadata": {},
   "outputs": [],
   "source": [
    "def bidirectionalRNN(x,weight,bias):\n",
    "    ## using bidirectional RNN for computation\n",
    "    ## putting the x into the data\n",
    "    x = tf.unstack(x,timestamp,1)\n",
    "    \n",
    "    lstm_fwrd_cell = rnn.BasicLSTMCell(num_hidden,forget_bias = 1.0)\n",
    "    \n",
    "    lstm_bckwd_cell = rnn.BasicLSTMCell(num_hidden,forget_bias = 1.0)\n",
    "    ## getting th value of lstm cell \n",
    "    output, _, _ = rnn.static_bidirectional_rnn(lstm_fwrd_cell, lstm_bckwd_cell, x,\n",
    "                                              dtype=tf.float32)\n",
    "    \n",
    "    # Linear activation, using rnn inner loop last output\n",
    "    return tf.matmul(output[-1], weights['out']) + bias['out']\n"
   ]
  },
  {
   "cell_type": "code",
   "execution_count": 66,
   "metadata": {},
   "outputs": [],
   "source": [
    "logits = bidirectionalRNN(X,weights,bias)\n",
    "prediction = tf.nn.softmax(logits)\n",
    "## NOTE: ON getting VALUE error run from start \n",
    "\n",
    "# Define loss and optimizer\n",
    "loss_op = tf.reduce_mean(tf.nn.softmax_cross_entropy_with_logits(\n",
    "    logits=logits, labels=Y))\n",
    "optimizer = tf.train.GradientDescentOptimizer(learning_rate=learning_rate)\n",
    "train_op = optimizer.minimize(loss_op)\n",
    "\n",
    "# Evaluate model (with test logits, for dropout to be disabled)\n",
    "correct_pred = tf.equal(tf.argmax(prediction, 1), tf.argmax(Y, 1))\n",
    "accuracy = tf.reduce_mean(tf.cast(correct_pred, tf.float32))\n",
    "\n",
    "# Initialize the variables (i.e. assign their default value)\n",
    "init = tf.global_variables_initializer()"
   ]
  },
  {
   "cell_type": "code",
   "execution_count": 67,
   "metadata": {},
   "outputs": [
    {
     "name": "stdout",
     "output_type": "stream",
     "text": [
      "Step 1, Minibatch Loss= 3.2825, Training Accuracy= 0.125\n",
      "Step 200, Minibatch Loss= 2.1779, Training Accuracy= 0.211\n",
      "Step 400, Minibatch Loss= 2.0355, Training Accuracy= 0.367\n",
      "Step 600, Minibatch Loss= 1.8564, Training Accuracy= 0.398\n",
      "Step 800, Minibatch Loss= 1.6660, Training Accuracy= 0.500\n",
      "Step 1000, Minibatch Loss= 1.6533, Training Accuracy= 0.516\n",
      "Step 1200, Minibatch Loss= 1.5927, Training Accuracy= 0.516\n",
      "Step 1400, Minibatch Loss= 1.5926, Training Accuracy= 0.516\n",
      "Step 1600, Minibatch Loss= 1.3344, Training Accuracy= 0.594\n",
      "Step 1800, Minibatch Loss= 1.3505, Training Accuracy= 0.609\n",
      "Step 2000, Minibatch Loss= 1.2230, Training Accuracy= 0.656\n",
      "Step 2200, Minibatch Loss= 1.2605, Training Accuracy= 0.586\n",
      "Step 2400, Minibatch Loss= 1.2378, Training Accuracy= 0.617\n",
      "Step 2600, Minibatch Loss= 1.3130, Training Accuracy= 0.555\n",
      "Step 2800, Minibatch Loss= 1.2408, Training Accuracy= 0.641\n",
      "Step 3000, Minibatch Loss= 1.1846, Training Accuracy= 0.641\n",
      "Step 3200, Minibatch Loss= 0.9529, Training Accuracy= 0.719\n",
      "Step 3400, Minibatch Loss= 1.0337, Training Accuracy= 0.672\n",
      "Step 3600, Minibatch Loss= 0.8915, Training Accuracy= 0.734\n",
      "Step 3800, Minibatch Loss= 0.9542, Training Accuracy= 0.672\n",
      "Step 4000, Minibatch Loss= 1.0213, Training Accuracy= 0.695\n",
      "Step 4200, Minibatch Loss= 1.0802, Training Accuracy= 0.688\n",
      "Step 4400, Minibatch Loss= 0.7385, Training Accuracy= 0.797\n",
      "Step 4600, Minibatch Loss= 0.9092, Training Accuracy= 0.703\n",
      "Step 4800, Minibatch Loss= 0.7470, Training Accuracy= 0.781\n",
      "Step 5000, Minibatch Loss= 0.8972, Training Accuracy= 0.742\n",
      "Step 5200, Minibatch Loss= 0.6568, Training Accuracy= 0.836\n",
      "Step 5400, Minibatch Loss= 0.8800, Training Accuracy= 0.695\n",
      "Step 5600, Minibatch Loss= 0.8628, Training Accuracy= 0.711\n",
      "Step 5800, Minibatch Loss= 0.6883, Training Accuracy= 0.773\n",
      "Step 6000, Minibatch Loss= 0.7033, Training Accuracy= 0.773\n",
      "Step 6200, Minibatch Loss= 0.7094, Training Accuracy= 0.727\n",
      "Step 6400, Minibatch Loss= 0.6076, Training Accuracy= 0.844\n",
      "Step 6600, Minibatch Loss= 0.6234, Training Accuracy= 0.820\n",
      "Step 6800, Minibatch Loss= 0.6935, Training Accuracy= 0.797\n",
      "Step 7000, Minibatch Loss= 0.7003, Training Accuracy= 0.781\n",
      "Step 7200, Minibatch Loss= 0.6536, Training Accuracy= 0.812\n",
      "Step 7400, Minibatch Loss= 0.5825, Training Accuracy= 0.789\n",
      "Step 7600, Minibatch Loss= 0.6441, Training Accuracy= 0.812\n",
      "Step 7800, Minibatch Loss= 0.5776, Training Accuracy= 0.820\n",
      "Step 8000, Minibatch Loss= 0.6004, Training Accuracy= 0.820\n",
      "Step 8200, Minibatch Loss= 0.5872, Training Accuracy= 0.797\n",
      "Step 8400, Minibatch Loss= 0.6478, Training Accuracy= 0.789\n",
      "Step 8600, Minibatch Loss= 0.5093, Training Accuracy= 0.828\n",
      "Step 8800, Minibatch Loss= 0.4716, Training Accuracy= 0.828\n",
      "Step 9000, Minibatch Loss= 0.5954, Training Accuracy= 0.836\n",
      "Step 9200, Minibatch Loss= 0.5549, Training Accuracy= 0.828\n",
      "Step 9400, Minibatch Loss= 0.5177, Training Accuracy= 0.844\n",
      "Step 9600, Minibatch Loss= 0.4459, Training Accuracy= 0.867\n",
      "Step 9800, Minibatch Loss= 0.4249, Training Accuracy= 0.852\n",
      "Optimization Finished!\n",
      "Testing Accuracy: 0.8828125\n"
     ]
    }
   ],
   "source": [
    "with tf.Session() as sess:\n",
    "    sess.run(init)\n",
    "    \n",
    "    for step in range(1,training_step,1):\n",
    "        batch_x,batch_y = mnist.train.next_batch(batch_size)\n",
    "        ## reshape the data to 28 x 28\n",
    "        batch_x = batch_x.reshape((batch_size,timestamp,num_input))\n",
    "         # Run optimization op (backprop)\n",
    "        sess.run(train_op, feed_dict={X: batch_x, Y: batch_y})\n",
    "        if step % display_step == 0 or step == 1:\n",
    "            # Calculate batch loss and accuracy\n",
    "            loss, acc = sess.run([loss_op, accuracy], feed_dict={X: batch_x,\n",
    "                                                                 Y: batch_y})\n",
    "            print(\"Step \" + str(step) + \", Minibatch Loss= \" + \\\n",
    "                  \"{:.4f}\".format(loss) + \", Training Accuracy= \" + \\\n",
    "                  \"{:.3f}\".format(acc))\n",
    "\n",
    "    print(\"Optimization Finished!\")\n",
    "    \n",
    "    # Calculate accuracy for 128 mnist test images\n",
    "    test_len = 128\n",
    "    test_data = mnist.test.images[:test_len].reshape((-1, timestamp, num_input))\n",
    "    test_label = mnist.test.labels[:test_len]\n",
    "    print(\"Testing Accuracy:\", \\\n",
    "        sess.run(accuracy, feed_dict={X: test_data, Y: test_label}))"
   ]
  },
  {
   "cell_type": "code",
   "execution_count": null,
   "metadata": {},
   "outputs": [],
   "source": []
  },
  {
   "cell_type": "code",
   "execution_count": null,
   "metadata": {},
   "outputs": [],
   "source": []
  }
 ],
 "metadata": {
  "kernelspec": {
   "display_name": "Python 3",
   "language": "python",
   "name": "python3"
  },
  "language_info": {
   "codemirror_mode": {
    "name": "ipython",
    "version": 3
   },
   "file_extension": ".py",
   "mimetype": "text/x-python",
   "name": "python",
   "nbconvert_exporter": "python",
   "pygments_lexer": "ipython3",
   "version": "3.6.5"
  }
 },
 "nbformat": 4,
 "nbformat_minor": 2
}
